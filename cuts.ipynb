{
 "cells": [
  {
   "cell_type": "code",
   "execution_count": null,
   "metadata": {},
   "outputs": [],
   "source": [
    "# Setup to read the image and display plots.\n",
    "import numpy as np\n",
    "from astropy.io import fits\n",
    "from astromy_ds9 import ds9_norm\n",
    "import matplotlib.pyplot as plt\n",
    "from matplotlib import rcParams\n",
    "from IPython.display import clear_output\n",
    "import os"
   ]
  },
  {
   "cell_type": "code",
   "execution_count": null,
   "metadata": {},
   "outputs": [],
   "source": [
    "# Read full image into standard 2D NumPy array.\n",
    "file = fits.open(\"10550_0020/10550_0020_ds9.fits\")\n",
    "\n",
    "IMAGE_WIDTH = len(file[1].data[0])\n",
    "IMAGE_HEIGHT = len(file[1].data)\n",
    "\n",
    "# Extract RGB data.\n",
    "red_data = file[1].data\n",
    "green_data = file[2].data\n",
    "blue_data = file[3].data"
   ]
  },
  {
   "cell_type": "code",
   "execution_count": null,
   "metadata": {},
   "outputs": [],
   "source": [
    "# Set colormap and scale parameters for each channel.\n",
    "red_low_limit = 2.70244\n",
    "red_high_limit = 12.4065\n",
    "green_low_limit = -1.04001\n",
    "green_high_limit = 3.78033\n",
    "blue_low_limit = 0.189677\n",
    "blue_high_limit = 3.0474\n",
    "\n",
    "red_contrast = 3.14039\n",
    "red_bias = 0.5\n",
    "green_contrast = 2.62357\n",
    "green_bias = 0.619241\n",
    "blue_contrast = 1.02662\n",
    "blue_bias = 0.331978"
   ]
  },
  {
   "cell_type": "code",
   "execution_count": null,
   "metadata": {},
   "outputs": [],
   "source": [
    "def update_image(red_data, green_data, blue_data):\n",
    "    # Apply scaling to each channel to emphasize peaks and reduce noise.\n",
    "    red_norm = ds9_norm(vmin=red_low_limit, vmax=red_high_limit, bias=red_bias, contrast=red_contrast, stretch='sqrt')(red_data)\n",
    "    green_norm = ds9_norm(vmin=green_low_limit, vmax=green_high_limit, bias=green_bias, contrast=green_contrast, stretch='sqrt')(green_data)\n",
    "    blue_norm = ds9_norm(vmin=blue_low_limit, vmax=blue_high_limit, bias=blue_bias, contrast=blue_contrast, stretch='sqrt')(blue_data)\n",
    "\n",
    "    # Stack the normalized channels\n",
    "    rgb_image = np.dstack((red_norm, green_norm, blue_norm))\n",
    "\n",
    "    # Display the RGB image\n",
    "    plt.figure(figsize=(10, 10))\n",
    "    plt.imshow(rgb_image, origin='lower')\n",
    "    plt.show()\n",
    "    \n",
    "    return red_norm, green_norm, blue_norm\n",
    "\n",
    "red_scaled, green_scaled, blue_scaled = update_image(red_data, green_data, blue_data)"
   ]
  },
  {
   "cell_type": "code",
   "execution_count": null,
   "metadata": {},
   "outputs": [],
   "source": [
    "for y in range(0, IMAGE_HEIGHT - 1, 256):\n",
    "    for x in range(0, IMAGE_WIDTH - 1, 256):\n",
    "        red_section = red_scaled[y:y+255, x:x+255]\n",
    "        green_section = green_scaled[y:y+255, x:x+255]\n",
    "        blue_section = blue_scaled[y:y+255, x:x+255]\n",
    "\n",
    "        # Stack the resized channels\n",
    "        rgb_image = np.dstack((red_section, green_section, blue_section))\n",
    "\n",
    "        # Display the RGB image\n",
    "        plt.figure(figsize=(10, 10))\n",
    "        plt.axis(\"off\")\n",
    "        plt.imshow(rgb_image, origin='lower')\n",
    "        plt.show()\n",
    "    clear_output(wait=True)"
   ]
  }
 ],
 "metadata": {
  "kernelspec": {
   "display_name": "Python 3",
   "language": "python",
   "name": "python3"
  },
  "language_info": {
   "codemirror_mode": {
    "name": "ipython",
    "version": 3
   },
   "file_extension": ".py",
   "mimetype": "text/x-python",
   "name": "python",
   "nbconvert_exporter": "python",
   "pygments_lexer": "ipython3",
   "version": "3.10.12"
  }
 },
 "nbformat": 4,
 "nbformat_minor": 2
}
