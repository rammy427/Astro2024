{
 "cells": [
  {
   "cell_type": "code",
   "execution_count": 7,
   "metadata": {},
   "outputs": [],
   "source": [
    "import numpy as np\n",
    "image_name = \"test1.fits\""
   ]
  },
  {
   "cell_type": "code",
   "execution_count": 8,
   "metadata": {},
   "outputs": [
    {
     "name": "stdout",
     "output_type": "stream",
     "text": [
      "Output: \n"
     ]
    }
   ],
   "source": [
    "import subprocess\n",
    "\n",
    "def run_sextractor(image_file, config_file='default.sex', params_file='default.param', conv_file='default.conv'):\n",
    "    command = [\n",
    "        'sex',  # SExtractor executable name\n",
    "        image_file,  # Input image file\n",
    "        '-c', config_file,  # Configuration file\n",
    "        '-PARAMETERS_NAME', params_file,  # Parameters file\n",
    "        '-FILTER_NAME', conv_file  # Convolution mask\n",
    "    ]\n",
    "\n",
    "    # Call the SExtractor command\n",
    "    result = subprocess.run(command, capture_output=True, text=True)\n",
    "\n",
    "    # Check if the command was successful\n",
    "    if result.returncode != 0:\n",
    "        print(f\"Error: {result.stderr}\")\n",
    "    else:\n",
    "        print(f\"Output: {result.stdout}\")\n",
    "\n",
    "# Example usage\n",
    "run_sextractor(image_name)"
   ]
  },
  {
   "cell_type": "code",
   "execution_count": 9,
   "metadata": {},
   "outputs": [],
   "source": [
    "file = open(\"test.cat\")\n",
    "for line in file:\n",
    "    line.split()\n",
    "file.close()"
   ]
  },
  {
   "cell_type": "code",
   "execution_count": null,
   "metadata": {},
   "outputs": [],
   "source": []
  }
 ],
 "metadata": {
  "kernelspec": {
   "display_name": "Python 3",
   "language": "python",
   "name": "python3"
  },
  "language_info": {
   "codemirror_mode": {
    "name": "ipython",
    "version": 3
   },
   "file_extension": ".py",
   "mimetype": "text/x-python",
   "name": "python",
   "nbconvert_exporter": "python",
   "pygments_lexer": "ipython3",
   "version": "3.10.12"
  }
 },
 "nbformat": 4,
 "nbformat_minor": 2
}
