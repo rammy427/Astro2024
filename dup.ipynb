{
 "cells": [
  {
   "cell_type": "code",
   "execution_count": null,
   "metadata": {},
   "outputs": [],
   "source": [
    "from collections import defaultdict"
   ]
  },
  {
   "cell_type": "code",
   "execution_count": null,
   "metadata": {},
   "outputs": [],
   "source": [
    "# Find duplicate sources in the galactic region file.\n",
    "def find_duplicates(gal_file):\n",
    "    region_file_galactic = gal_file  \n",
    "\n",
    "    # Given coordinates\n",
    "    coordinates = []\n",
    "    with open(region_file_galactic, 'r') as f_galactic:\n",
    "        coordinates = f_galactic.readlines()\n",
    "\n",
    "    # Dictionary to store coordinates and their counts\n",
    "    coordinate_counts = defaultdict(int)\n",
    "\n",
    "    # Find duplicates\n",
    "    for coord in coordinates:\n",
    "        coordinate_counts[coord] += 1\n",
    "\n",
    "    # List duplicates\n",
    "    duplicates = [(coord, count) for coord, count in coordinate_counts.items() if count > 1]\n",
    "\n",
    "    # Output duplicates\n",
    "    if duplicates:\n",
    "        print(\"Duplicates found:\")\n",
    "        for dup in duplicates:\n",
    "            print(f\"Coordinate: {dup[0]}, Count: {dup[1]}\")\n",
    "\n",
    "    else:\n",
    "        print(\"No duplicates found.\")"
   ]
  },
  {
   "cell_type": "code",
   "execution_count": null,
   "metadata": {},
   "outputs": [],
   "source": [
    "paths = [\"10050_0270\",\n",
    "         \"10150_0145\",\n",
    "         \"10150_0270\",\n",
    "         \"10250_0020\",\n",
    "         \"10250_0145\",\n",
    "         \"10250_0270\",\n",
    "         \"10350_0020\",\n",
    "         \"10350_0145\",\n",
    "         \"10350_0270\",\n",
    "         \"10450_0020\",\n",
    "         \"10450_0145\",\n",
    "         \"10450_0270\",\n",
    "         \"10550_0020\",\n",
    "         \"10550_0145\",\n",
    "         \"10550_0270\"]\n",
    "\n",
    "for path in paths:\n",
    "    filename = path + '/galacticas_' + path + '.reg'\n",
    "    print(\"In \" + path + \":\")\n",
    "    find_duplicates(filename)"
   ]
  },
  {
   "cell_type": "code",
   "execution_count": null,
   "metadata": {},
   "outputs": [],
   "source": []
  }
 ],
 "metadata": {
  "kernelspec": {
   "display_name": "Python 3",
   "language": "python",
   "name": "python3"
  },
  "language_info": {
   "codemirror_mode": {
    "name": "ipython",
    "version": 3
   },
   "file_extension": ".py",
   "mimetype": "text/x-python",
   "name": "python",
   "nbconvert_exporter": "python",
   "pygments_lexer": "ipython3",
   "version": "3.10.12"
  }
 },
 "nbformat": 4,
 "nbformat_minor": 2
}
