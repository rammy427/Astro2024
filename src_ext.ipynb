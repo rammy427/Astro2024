{
 "cells": [
  {
   "cell_type": "code",
   "execution_count": null,
   "metadata": {},
   "outputs": [],
   "source": [
    "import numpy as np\n",
    "import sep\n",
    "\n",
    "region = \"10050+0270\"\n",
    "filter = \"1\" # 1, 2, 4\n",
    "\n",
    "filename = \"SMOG_data/\" + region + \"/SMOG_\" + region + \"_mosaic_I\" + filter + \".fits\"\n",
    "# filename = \"galaxies.fits\""
   ]
  },
  {
   "cell_type": "code",
   "execution_count": null,
   "metadata": {},
   "outputs": [],
   "source": [
    "import subprocess\n",
    "\n",
    "def run_sextractor(image_file, config_file='default.sex', params_file='default.param', conv_file='gauss_4.0_7x7.conv'):\n",
    "    command = [\n",
    "        'sex',  # SExtractor executable name\n",
    "        image_file,  # Input image file\n",
    "        '-c', config_file,  # Configuration file\n",
    "        '-PARAMETERS_NAME', params_file,  # Parameters file\n",
    "        '-FILTER_NAME', conv_file  # Convolution mask\n",
    "    ]\n",
    "\n",
    "    # Call the SExtractor command\n",
    "    result = subprocess.run(command, capture_output=True, text=True)\n",
    "\n",
    "    # Check if the command was successful\n",
    "    if result.returncode != 0:\n",
    "        print(f\"Error: {result.stderr}\")\n",
    "    else:\n",
    "        print(f\"Output: {result.stdout}\")\n",
    "\n",
    "# Run for the three images.\n",
    "run_sextractor(\"SMOG_data/\" + region + \"/SMOG_\" + region + \"_mosaic_I1.fits\")\n",
    "run_sextractor(\"SMOG_data/\" + region + \"/SMOG_\" + region + \"_mosaic_I2.fits\")\n",
    "run_sextractor(\"SMOG_data/\" + region + \"/SMOG_\" + region + \"_mosaic_I4.fits\")"
   ]
  },
  {
   "cell_type": "code",
   "execution_count": null,
   "metadata": {},
   "outputs": [],
   "source": [
    "# Additional setup for reading the test image and displaying plots.\n",
    "from astropy.io import fits\n",
    "import matplotlib.pyplot as plt\n",
    "from matplotlib import rcParams\n",
    "\n",
    "%matplotlib inline\n",
    "\n",
    "rcParams[\"figure.figsize\"] = [10.0, 8.0]"
   ]
  },
  {
   "cell_type": "code",
   "execution_count": null,
   "metadata": {},
   "outputs": [],
   "source": [
    "# Read image into standard 2D NumPy array.\n",
    "file = fits.open(filename)\n",
    "full = file[0].data\n",
    "\n",
    "data = np.ascontiguousarray(full[5500:6800, 0:800]).byteswap().newbyteorder()"
   ]
  },
  {
   "cell_type": "code",
   "execution_count": null,
   "metadata": {},
   "outputs": [],
   "source": [
    "# Show the image.\n",
    "m, s = np.mean(data), np.std(data)\n",
    "plt.imshow(data, interpolation=\"nearest\", cmap=\"gray\", vmin=m-s, vmax=m+s, origin=\"lower\")\n",
    "plt.colorbar()"
   ]
  },
  {
   "cell_type": "code",
   "execution_count": null,
   "metadata": {},
   "outputs": [],
   "source": [
    "# Measure a spatially varying background on the image.\n",
    "bkg = sep.Background(data)"
   ]
  },
  {
   "cell_type": "code",
   "execution_count": null,
   "metadata": {},
   "outputs": [],
   "source": [
    "# Get a \"global\" mean and noise of the image background.\n",
    "print(bkg.globalback)\n",
    "print(bkg.globalrms)"
   ]
  },
  {
   "cell_type": "code",
   "execution_count": null,
   "metadata": {},
   "outputs": [],
   "source": [
    "# Evaluate background as 2D array with same size as original image.\n",
    "bkg_image = bkg.back()"
   ]
  },
  {
   "cell_type": "code",
   "execution_count": null,
   "metadata": {},
   "outputs": [],
   "source": [
    "# Show the background.\n",
    "plt.imshow(bkg_image, interpolation=\"nearest\", cmap=\"gray\", origin=\"lower\")\n",
    "plt.colorbar()"
   ]
  },
  {
   "cell_type": "code",
   "execution_count": null,
   "metadata": {},
   "outputs": [],
   "source": [
    "# Evaluate the background noise as 2D array with same size as original image.\n",
    "bkg_rms = bkg.rms()"
   ]
  },
  {
   "cell_type": "code",
   "execution_count": null,
   "metadata": {},
   "outputs": [],
   "source": [
    "# Show the background noise.\n",
    "plt.imshow(bkg_rms, interpolation=\"nearest\", cmap=\"gray\", origin=\"lower\")\n",
    "plt.colorbar()"
   ]
  },
  {
   "cell_type": "code",
   "execution_count": null,
   "metadata": {},
   "outputs": [],
   "source": [
    "# Subtract the background\n",
    "data_sub = data - bkg"
   ]
  },
  {
   "cell_type": "code",
   "execution_count": null,
   "metadata": {},
   "outputs": [],
   "source": [
    "# Default SExtractor kernel.\n",
    "# kernel = np.array([[1, 2, 1],\n",
    "#                    [2, 4, 2],\n",
    "#                    [1, 2, 1]])\n",
    "\n",
    "# Gaussian 4.0 7x7 kernel.\n",
    "kernel = np.array([[0.047454, 0.109799, 0.181612, 0.214776, 0.181612, 0.109799, 0.047454],\n",
    "                   [0.109799, 0.254053, 0.420215, 0.496950, 0.420215, 0.254053, 0.109799],\n",
    "                   [0.181612, 0.420215, 0.695055, 0.821978, 0.695055, 0.420215, 0.181612],\n",
    "                   [0.214776, 0.496950, 0.821978, 0.972079, 0.821978, 0.496950, 0.214776],\n",
    "                   [0.181612, 0.420215, 0.695055, 0.821978, 0.695055, 0.420215, 0.181612],\n",
    "                   [0.109799, 0.254053, 0.420215, 0.496950, 0.420215, 0.254053, 0.109799],\n",
    "                   [0.047454, 0.109799, 0.181612, 0.214776, 0.181612, 0.109799, 0.047454]])\n",
    "\n",
    "# # Tophat 3.0 3x3 kernel.\n",
    "# kernel = np.array([[0.560000, 0.980000, 0.560000],\n",
    "#                    [0.980000, 1.000000, 0.980000],\n",
    "#                    [0.560000, 0.980000, 0.560000]])\n",
    "\n",
    "# Set parameters.\n",
    "thresh = 5\n",
    "error = bkg.globalrms\n",
    "min_area = 2\n",
    "\n",
    "objects = sep.extract(data_sub, thresh, err=error, filter_kernel=kernel, minarea=min_area)"
   ]
  },
  {
   "cell_type": "code",
   "execution_count": null,
   "metadata": {},
   "outputs": [],
   "source": [
    "# How many objects were detected\n",
    "len(objects)"
   ]
  },
  {
   "cell_type": "code",
   "execution_count": null,
   "metadata": {},
   "outputs": [],
   "source": [
    "from matplotlib.patches import Ellipse\n",
    "\n",
    "# Plot background-subtracted image.\n",
    "fig, ax = plt.subplots()\n",
    "m, s = np.mean(data_sub), np.std(data_sub)\n",
    "im = ax.imshow(data_sub, interpolation=\"none\", cmap=\"gray\",\n",
    "               vmin=m-s, vmax=m+s, origin=\"lower\")\n",
    "\n",
    "# Plot an ellipse for each object.\n",
    "for i in range(len(objects)):\n",
    "    e = Ellipse(xy=(objects['x'][i], objects['y'][i]),\n",
    "                width=6*objects['a'][i],\n",
    "                height=6*objects['b'][i],\n",
    "                angle=objects[\"theta\"][i] * 180.0 / np.pi)\n",
    "    e.set_facecolor(\"none\")\n",
    "    e.set_edgecolor(\"red\")\n",
    "    ax.add_artist(e)"
   ]
  },
  {
   "cell_type": "code",
   "execution_count": null,
   "metadata": {},
   "outputs": [],
   "source": [
    "# Available fields.\n",
    "objects.dtype.names"
   ]
  },
  {
   "cell_type": "code",
   "execution_count": null,
   "metadata": {},
   "outputs": [],
   "source": [
    "flux, fluxerr, flag = sep.sum_circle(data_sub, objects['x'], objects['y'],\n",
    "                                     3.0, err=bkg.globalrms, gain=1.0)"
   ]
  },
  {
   "cell_type": "code",
   "execution_count": null,
   "metadata": {},
   "outputs": [],
   "source": [
    "# Show the first 10 objects' results.\n",
    "# for i in range(10):\n",
    "#     print(\"object {:d}: flux = {:f} +/- {:f}\".format(i, flux[i], fluxerr[i]))"
   ]
  },
  {
   "cell_type": "code",
   "execution_count": null,
   "metadata": {},
   "outputs": [],
   "source": [
    "print(objects['x'])"
   ]
  },
  {
   "cell_type": "code",
   "execution_count": null,
   "metadata": {},
   "outputs": [],
   "source": [
    "print(objects['y'])"
   ]
  },
  {
   "cell_type": "code",
   "execution_count": null,
   "metadata": {},
   "outputs": [],
   "source": [
    "print(objects['a'])"
   ]
  },
  {
   "cell_type": "code",
   "execution_count": null,
   "metadata": {},
   "outputs": [],
   "source": [
    "print(objects['b'])"
   ]
  },
  {
   "cell_type": "code",
   "execution_count": null,
   "metadata": {},
   "outputs": [],
   "source": [
    "print(objects['theta'])"
   ]
  }
 ],
 "metadata": {
  "kernelspec": {
   "display_name": "Python 3",
   "language": "python",
   "name": "python3"
  },
  "language_info": {
   "codemirror_mode": {
    "name": "ipython",
    "version": 3
   },
   "file_extension": ".py",
   "mimetype": "text/x-python",
   "name": "python",
   "nbconvert_exporter": "python",
   "pygments_lexer": "ipython3",
   "version": "3.10.12"
  }
 },
 "nbformat": 4,
 "nbformat_minor": 2
}
